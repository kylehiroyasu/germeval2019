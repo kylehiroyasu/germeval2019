{
 "cells": [
  {
   "cell_type": "markdown",
   "metadata": {},
   "source": [
    "## Imports"
   ]
  },
  {
   "cell_type": "code",
   "execution_count": 64,
   "metadata": {},
   "outputs": [],
   "source": [
    "from bs4 import BeautifulSoup\n",
    "import os\n",
    "from pathlib import Path\n",
    "from lxml import etree\n",
    "import pandas as pd\n",
    "import sys\n",
    "import importlib"
   ]
  },
  {
   "cell_type": "markdown",
   "metadata": {},
   "source": [
    "## Constants"
   ]
  },
  {
   "cell_type": "code",
   "execution_count": 61,
   "metadata": {},
   "outputs": [],
   "source": [
    "CWD = Path(os.getcwd())\n",
    "ROOT = CWD/'..'\n",
    "DATA = ROOT/'data'\n",
    "SRC = ROOT/'src'\n",
    "SAMPLE_DATA = DATA/'sample'\n",
    "BLURB_SAMPLE = SAMPLE_DATA/'blurbs_sample.txt'"
   ]
  },
  {
   "cell_type": "markdown",
   "metadata": {},
   "source": [
    "## Import Own Code"
   ]
  },
  {
   "cell_type": "code",
   "execution_count": 62,
   "metadata": {},
   "outputs": [],
   "source": [
    "sys.path.append(str(SRC.as_posix()))"
   ]
  },
  {
   "cell_type": "code",
   "execution_count": 74,
   "metadata": {},
   "outputs": [
    {
     "data": {
      "text/plain": [
       "<module 'dataparse' from '/Users/d440323/Personal/germeval2019/notebooks/../src/dataparse.py'>"
      ]
     },
     "execution_count": 74,
     "metadata": {},
     "output_type": "execute_result"
    }
   ],
   "source": [
    "import dataparse\n",
    "importlib.reload(dataparse)"
   ]
  },
  {
   "cell_type": "markdown",
   "metadata": {},
   "source": [
    "## Importing Data"
   ]
  },
  {
   "cell_type": "code",
   "execution_count": 75,
   "metadata": {},
   "outputs": [],
   "source": [
    "with open(BLURB_SAMPLE) as blurb:\n",
    "    blurbs = blurb.readlines()"
   ]
  },
  {
   "cell_type": "markdown",
   "metadata": {},
   "source": [
    "## Preprocessing Data"
   ]
  },
  {
   "cell_type": "code",
   "execution_count": 76,
   "metadata": {},
   "outputs": [],
   "source": [
    "joined_blurbs = ''.join(blurbs)"
   ]
  },
  {
   "cell_type": "code",
   "execution_count": 77,
   "metadata": {},
   "outputs": [],
   "source": [
    "joined_bs = BeautifulSoup(joined_blurbs)"
   ]
  },
  {
   "cell_type": "code",
   "execution_count": 78,
   "metadata": {},
   "outputs": [],
   "source": [
    "books = joined_bs.findChild().findChild()"
   ]
  },
  {
   "cell_type": "code",
   "execution_count": 79,
   "metadata": {
    "scrolled": true
   },
   "outputs": [],
   "source": [
    "df = dataparse.books_to_df(books)"
   ]
  },
  {
   "cell_type": "code",
   "execution_count": 82,
   "metadata": {},
   "outputs": [
    {
     "data": {
      "text/html": [
       "<div>\n",
       "<style scoped>\n",
       "    .dataframe tbody tr th:only-of-type {\n",
       "        vertical-align: middle;\n",
       "    }\n",
       "\n",
       "    .dataframe tbody tr th {\n",
       "        vertical-align: top;\n",
       "    }\n",
       "\n",
       "    .dataframe thead th {\n",
       "        text-align: right;\n",
       "    }\n",
       "</style>\n",
       "<table border=\"1\" class=\"dataframe\">\n",
       "  <thead>\n",
       "    <tr style=\"text-align: right;\">\n",
       "      <th></th>\n",
       "      <th>authors</th>\n",
       "      <th>book_date</th>\n",
       "      <th>categories</th>\n",
       "      <th>copyright</th>\n",
       "      <th>description</th>\n",
       "      <th>isbn</th>\n",
       "      <th>lang</th>\n",
       "      <th>published_date</th>\n",
       "      <th>title</th>\n",
       "      <th>url</th>\n",
       "    </tr>\n",
       "  </thead>\n",
       "  <tbody>\n",
       "    <tr>\n",
       "      <th>0</th>\n",
       "      <td>Noah Gordon</td>\n",
       "      <td>2019-01-04</td>\n",
       "      <td>[Literatur &amp; Unterhaltung, Romane &amp; Erzählungen]</td>\n",
       "      <td>(c) Verlagsgruppe Random House GmbH</td>\n",
       "      <td>Ein Blick hinter die Kulissen eines Krankenhau...</td>\n",
       "      <td>9783641136291</td>\n",
       "      <td>de</td>\n",
       "      <td>2013-12-02</td>\n",
       "      <td>Die Klinik</td>\n",
       "      <td>https://www.randomhouse.de/ebook/Die-Klinik/No...</td>\n",
       "    </tr>\n",
       "    <tr>\n",
       "      <th>1</th>\n",
       "      <td>Raymond Feist</td>\n",
       "      <td>2019-01-04</td>\n",
       "      <td>[Literatur &amp; Unterhaltung, Fantasy, Heroische ...</td>\n",
       "      <td>(c) Verlagsgruppe Random House GmbH</td>\n",
       "      <td>Die Bedrohungen für Midkemia und Kelewan wolle...</td>\n",
       "      <td>9783641185787</td>\n",
       "      <td>de</td>\n",
       "      <td>2016-06-20</td>\n",
       "      <td>Die Erben von Midkemia 4</td>\n",
       "      <td>https://www.randomhouse.de/ebook/Die-Erben-von...</td>\n",
       "    </tr>\n",
       "    <tr>\n",
       "      <th>2</th>\n",
       "      <td>Susanne Weingarten</td>\n",
       "      <td>2019-01-04</td>\n",
       "      <td>[Ratgeber, Lebenshilfe &amp; Psychologie, Besser l...</td>\n",
       "      <td>(c) Verlagsgruppe Random House GmbH</td>\n",
       "      <td>In der Dreizimmerwohnung stapeln sich Flohmark...</td>\n",
       "      <td>9783328103646</td>\n",
       "      <td>de</td>\n",
       "      <td>2019-01-14</td>\n",
       "      <td>Völlig losgelöst</td>\n",
       "      <td>https://www.randomhouse.de/Taschenbuch/Voellig...</td>\n",
       "    </tr>\n",
       "    <tr>\n",
       "      <th>3</th>\n",
       "      <td>J. Kenner</td>\n",
       "      <td>2019-01-04</td>\n",
       "      <td>[Literatur &amp; Unterhaltung, Erotik]</td>\n",
       "      <td>(c) Verlagsgruppe Random House GmbH</td>\n",
       "      <td>An der Seite von Damien fühlt sich Nikki zum e...</td>\n",
       "      <td>9783453357792</td>\n",
       "      <td>de</td>\n",
       "      <td>2014-04-14</td>\n",
       "      <td>Dich erfüllen</td>\n",
       "      <td>https://www.randomhouse.de/Taschenbuch/Dich-er...</td>\n",
       "    </tr>\n",
       "    <tr>\n",
       "      <th>4</th>\n",
       "      <td>Karl May</td>\n",
       "      <td>2019-01-04</td>\n",
       "      <td>[Literatur &amp; Unterhaltung, Romane &amp; Erzählungen]</td>\n",
       "      <td>(c) Verlagsgruppe Random House GmbH</td>\n",
       "      <td>Wer Kara Ben Nemsi, Hadschi Halef Omar und Sir...</td>\n",
       "      <td>9783844504958</td>\n",
       "      <td>de</td>\n",
       "      <td>2007-08-13</td>\n",
       "      <td>Der Orientzyklus</td>\n",
       "      <td>https://www.randomhouse.de/Hoerbuch-Download/D...</td>\n",
       "    </tr>\n",
       "  </tbody>\n",
       "</table>\n",
       "</div>"
      ],
      "text/plain": [
       "              authors   book_date  \\\n",
       "0         Noah Gordon  2019-01-04   \n",
       "1       Raymond Feist  2019-01-04   \n",
       "2  Susanne Weingarten  2019-01-04   \n",
       "3           J. Kenner  2019-01-04   \n",
       "4            Karl May  2019-01-04   \n",
       "\n",
       "                                          categories  \\\n",
       "0   [Literatur & Unterhaltung, Romane & Erzählungen]   \n",
       "1  [Literatur & Unterhaltung, Fantasy, Heroische ...   \n",
       "2  [Ratgeber, Lebenshilfe & Psychologie, Besser l...   \n",
       "3                 [Literatur & Unterhaltung, Erotik]   \n",
       "4   [Literatur & Unterhaltung, Romane & Erzählungen]   \n",
       "\n",
       "                             copyright  \\\n",
       "0  (c) Verlagsgruppe Random House GmbH   \n",
       "1  (c) Verlagsgruppe Random House GmbH   \n",
       "2  (c) Verlagsgruppe Random House GmbH   \n",
       "3  (c) Verlagsgruppe Random House GmbH   \n",
       "4  (c) Verlagsgruppe Random House GmbH   \n",
       "\n",
       "                                         description           isbn lang  \\\n",
       "0  Ein Blick hinter die Kulissen eines Krankenhau...  9783641136291   de   \n",
       "1  Die Bedrohungen für Midkemia und Kelewan wolle...  9783641185787   de   \n",
       "2  In der Dreizimmerwohnung stapeln sich Flohmark...  9783328103646   de   \n",
       "3  An der Seite von Damien fühlt sich Nikki zum e...  9783453357792   de   \n",
       "4  Wer Kara Ben Nemsi, Hadschi Halef Omar und Sir...  9783844504958   de   \n",
       "\n",
       "  published_date                     title  \\\n",
       "0     2013-12-02                Die Klinik   \n",
       "1     2016-06-20  Die Erben von Midkemia 4   \n",
       "2     2019-01-14          Völlig losgelöst   \n",
       "3     2014-04-14             Dich erfüllen   \n",
       "4     2007-08-13          Der Orientzyklus   \n",
       "\n",
       "                                                 url  \n",
       "0  https://www.randomhouse.de/ebook/Die-Klinik/No...  \n",
       "1  https://www.randomhouse.de/ebook/Die-Erben-von...  \n",
       "2  https://www.randomhouse.de/Taschenbuch/Voellig...  \n",
       "3  https://www.randomhouse.de/Taschenbuch/Dich-er...  \n",
       "4  https://www.randomhouse.de/Hoerbuch-Download/D...  "
      ]
     },
     "execution_count": 82,
     "metadata": {},
     "output_type": "execute_result"
    }
   ],
   "source": [
    "df.head()"
   ]
  },
  {
   "cell_type": "markdown",
   "metadata": {},
   "source": [
    "The reading in of the document was slightly painful but in the end manageable.\n",
    "\n",
    "What isn't clear is what happens where there are multiple authos how they may be listed. There is also certainly room for improvement in parsing the URL into relevant parts such as format."
   ]
  }
 ],
 "metadata": {
  "kernelspec": {
   "display_name": "Python [conda env:germeval19]",
   "language": "python",
   "name": "conda-env-germeval19-py"
  },
  "language_info": {
   "codemirror_mode": {
    "name": "ipython",
    "version": 3
   },
   "file_extension": ".py",
   "mimetype": "text/x-python",
   "name": "python",
   "nbconvert_exporter": "python",
   "pygments_lexer": "ipython3",
   "version": "3.6.8"
  }
 },
 "nbformat": 4,
 "nbformat_minor": 2
}
